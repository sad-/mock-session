{
 "cells": [
  {
   "cell_type": "markdown",
   "metadata": {},
   "source": [
    "# Mock Session #"
   ]
  },
  {
   "cell_type": "code",
   "execution_count": null,
   "metadata": {
    "collapsed": false
   },
   "outputs": [],
   "source": []
  },
  {
   "cell_type": "markdown",
   "metadata": {},
   "source": [
    "## Scenario 1 ##\n",
    "Your class consists of two types of students type-A students and type-B students and you're trying to assign the students to small groups\n",
    "\n",
    "You want each group to have the same number of students of each type. i.e if there are 3 type-A students in group 1, then there should be 3 type-A students in all the other groups. Same for type-B.\n",
    "\n",
    "There are 30 students in the class, 6 of them are type-A and the remaining 24 are type-B.\n",
    "\n",
    "What is the maximum number of groups you can have in this case?"
   ]
  },
  {
   "cell_type": "code",
   "execution_count": null,
   "metadata": {
    "collapsed": false
   },
   "outputs": [],
   "source": []
  },
  {
   "cell_type": "markdown",
   "metadata": {},
   "source": [
    "## Scenario 2 ##\n",
    "Same specifications as Scenario 1 except now you have 30 students in the class 18 type-A students and 42 type-B students\n",
    "\n",
    "What is the maximum number of groups you can have in this case?\n",
    "\n",
    "Is there a pattern?"
   ]
  },
  {
   "cell_type": "markdown",
   "metadata": {},
   "source": [
    "### Free Response to Scenario 2 ###"
   ]
  },
  {
   "cell_type": "code",
   "execution_count": null,
   "metadata": {
    "collapsed": false
   },
   "outputs": [],
   "source": []
  },
  {
   "cell_type": "markdown",
   "metadata": {},
   "source": [
    "## Scenario 3 ##\n",
    "Same specifications as Scenario 1 except now you don't know the number of students in advance\n",
    "\n",
    "You have $ m $ type-As and $ n $ type-Bs.\n",
    "\n",
    "What is the maximum number of groups you can have in this case?\n",
    "\n",
    "Write the steps you would take to find the answer as precisely as you can\n",
    "\n",
    "Is there a simple mathematical formula for this procedure?\n",
    "\n",
    "Can we always separate the students into groups using this method?"
   ]
  },
  {
   "cell_type": "markdown",
   "metadata": {},
   "source": [
    "### Free Response to Scenario 3 ###\n",
    "\n"
   ]
  },
  {
   "cell_type": "code",
   "execution_count": null,
   "metadata": {
    "collapsed": true
   },
   "outputs": [],
   "source": []
  },
  {
   "cell_type": "markdown",
   "metadata": {},
   "source": [
    "## Scenario 4 ##\n",
    "Suppose you have 3 personality types instead of two. \n",
    "Can we extend the process we created in Scenario 3 to deal with this case?"
   ]
  },
  {
   "cell_type": "markdown",
   "metadata": {},
   "source": [
    "### Free Response to Scenario 4 ###\n"
   ]
  },
  {
   "cell_type": "code",
   "execution_count": null,
   "metadata": {
    "collapsed": true
   },
   "outputs": [],
   "source": []
  },
  {
   "cell_type": "markdown",
   "metadata": {},
   "source": [
    "## Some more extensions to consider ##\n",
    "Read up more on Euclids' GCD algorithm [here](https://en.wikipedia.org/wiki/Euclidean_algorithm).\n",
    "\n",
    "Remember how we said the gcd of two integers is invariant to when you consider linear combination of the integers. Euclid also came up an extension of the GCD to help us calculate the gcd for extra challenge, try to see if you can come up with python code to implement the extended-GCD. You might want to [read up](https://en.wikipedia.org/wiki/Extended_Euclidean_algorithm) first though."
   ]
  },
  {
   "cell_type": "code",
   "execution_count": null,
   "metadata": {
    "collapsed": true
   },
   "outputs": [],
   "source": [
    "def egcd(a, b):\n",
    "    if a == 0:\n",
    "        return \"REPLACE ME WITH SOMETHING ELSE\"\n",
    "    else:\n",
    "        g, x, y = 0, 0, 0 #REPLACE ME WITH SOMETHING ELSE\n",
    "        return \"REPLACE ME WITH SOMETHING ELSE\""
   ]
  },
  {
   "cell_type": "code",
   "execution_count": null,
   "metadata": {
    "collapsed": false
   },
   "outputs": [],
   "source": [
    "egcd(104, 32)"
   ]
  }
 ],
 "metadata": {
  "kernelspec": {
   "display_name": "Python 2",
   "language": "python",
   "name": "python2"
  },
  "language_info": {
   "codemirror_mode": {
    "name": "ipython",
    "version": 2
   },
   "file_extension": ".py",
   "mimetype": "text/x-python",
   "name": "python",
   "nbconvert_exporter": "python",
   "pygments_lexer": "ipython2",
   "version": "2.7.12"
  }
 },
 "nbformat": 4,
 "nbformat_minor": 0
}
